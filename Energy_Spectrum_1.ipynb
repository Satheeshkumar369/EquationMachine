{
 "cells": [
  {
   "cell_type": "markdown",
   "id": "67352089-5dae-4770-8161-c68cbfd41071",
   "metadata": {
    "tags": []
   },
   "source": [
    "# Energy Spectrum of hydrgen molecule by varying interatomic distances"
   ]
  },
  {
   "cell_type": "markdown",
   "id": "37a69330-4b60-4c9f-bc9f-f8028a544950",
   "metadata": {
    "tags": []
   },
   "source": [
    "# Modules Import"
   ]
  },
  {
   "cell_type": "code",
   "execution_count": 1,
   "id": "ce475ffb-8596-4bda-8303-073fe808a8eb",
   "metadata": {},
   "outputs": [
    {
     "name": "stderr",
     "output_type": "stream",
     "text": [
      "<frozen importlib._bootstrap>:219: RuntimeWarning: scipy._lib.messagestream.MessageStream size changed, may indicate binary incompatibility. Expected 56 from C header, got 64 from PyObject\n"
     ]
    }
   ],
   "source": [
    "from qiskit import Aer\n",
    "from qiskit_nature.drivers import UnitsType, Molecule\n",
    "from qiskit_nature.drivers.second_quantization import (\n",
    "    ElectronicStructureDriverType,\n",
    "    ElectronicStructureMoleculeDriver,\n",
    ")\n",
    "from qiskit_nature.problems.second_quantization import ElectronicStructureProblem\n",
    "from qiskit_nature.converters.second_quantization import QubitConverter\n",
    "from qiskit_nature.mappers.second_quantization import JordanWignerMapper\n",
    "from qiskit.providers.aer import StatevectorSimulator\n",
    "from qiskit import Aer\n",
    "from qiskit.utils import QuantumInstance\n",
    "from qiskit_nature.algorithms import VQEUCCFactory\n",
    "from qiskit.algorithms import VQE\n",
    "from qiskit.circuit.library import TwoLocal\n",
    "from qiskit_nature.algorithms import GroundStateEigensolver"
   ]
  },
  {
   "cell_type": "code",
   "execution_count": 2,
   "id": "aa4150d3-0496-49a5-9e24-eee2c174d0ae",
   "metadata": {},
   "outputs": [],
   "source": [
    "quantum_instance = QuantumInstance(backend=Aer.get_backend(\"aer_simulator_statevector\"))\n",
    "vqe_solver = VQEUCCFactory(quantum_instance)"
   ]
  },
  {
   "cell_type": "code",
   "execution_count": 3,
   "id": "010db94f-118d-4224-bee9-bc6342bd2f5d",
   "metadata": {},
   "outputs": [],
   "source": [
    "from qiskit.algorithms import NumPyMinimumEigensolver\n",
    "numpy_solver = NumPyMinimumEigensolver()"
   ]
  },
  {
   "cell_type": "code",
   "execution_count": 4,
   "id": "b74ee407-60a1-45c8-8a54-b266e56fa930",
   "metadata": {},
   "outputs": [
    {
     "data": {
      "text/plain": [
       "array([0.1, 0.2, 0.3, 0.4, 0.5, 0.6, 0.7, 0.8, 0.9, 1. , 1.1, 1.2, 1.3,\n",
       "       1.4, 1.5, 1.6, 1.7, 1.8, 1.9, 2. , 2.1, 2.2, 2.3, 2.4, 2.5, 2.6,\n",
       "       2.7, 2.8, 2.9])"
      ]
     },
     "execution_count": 4,
     "metadata": {},
     "output_type": "execute_result"
    }
   ],
   "source": [
    "import numpy as np\n",
    "distance = np.arange(0.1,3,0.1)\n",
    "distance"
   ]
  },
  {
   "cell_type": "code",
   "execution_count": 5,
   "id": "80eb12da-d149-4402-87a1-af2ef5b7c979",
   "metadata": {},
   "outputs": [],
   "source": [
    "ce = []\n",
    "qe = []"
   ]
  },
  {
   "cell_type": "code",
   "execution_count": 6,
   "id": "005ee23b-b3e7-4596-a4c6-db34b9ea9179",
   "metadata": {},
   "outputs": [
    {
     "name": "stdout",
     "output_type": "stream",
     "text": [
      "distance ->  0.1\n",
      "distance ->  0.2\n",
      "distance ->  0.30000000000000004\n",
      "distance ->  0.4\n",
      "distance ->  0.5\n",
      "distance ->  0.6\n",
      "distance ->  0.7000000000000001\n",
      "distance ->  0.8\n",
      "distance ->  0.9\n",
      "distance ->  1.0\n",
      "distance ->  1.1\n",
      "distance ->  1.2000000000000002\n",
      "distance ->  1.3000000000000003\n",
      "distance ->  1.4000000000000001\n",
      "distance ->  1.5000000000000002\n",
      "distance ->  1.6\n",
      "distance ->  1.7000000000000002\n",
      "distance ->  1.8000000000000003\n",
      "distance ->  1.9000000000000001\n",
      "distance ->  2.0\n",
      "distance ->  2.1\n",
      "distance ->  2.2\n",
      "distance ->  2.3000000000000003\n",
      "distance ->  2.4000000000000004\n",
      "distance ->  2.5000000000000004\n",
      "distance ->  2.6\n",
      "distance ->  2.7\n",
      "distance ->  2.8000000000000003\n",
      "distance ->  2.9000000000000004\n"
     ]
    }
   ],
   "source": [
    "for j,i in enumerate(distance):\n",
    "    molecule = Molecule(\n",
    "    geometry=[\n",
    "        [\"H\", [0.0, 0.0, 0.0]],\n",
    "        [\"H\", [0.0, 0.0, i]]], \n",
    "    charge=0, \n",
    "    multiplicity=1\n",
    "    )\n",
    "    driver = ElectronicStructureMoleculeDriver(\n",
    "        molecule, \n",
    "        basis=\"sto3g\", \n",
    "        driver_type=ElectronicStructureDriverType.PYSCF)\n",
    "    \n",
    "    es_problem = ElectronicStructureProblem(driver)\n",
    "    qubit_converter = QubitConverter(JordanWignerMapper())\n",
    "    tl_circuit = TwoLocal(\n",
    "        rotation_blocks=[\"h\", \"rx\"],\n",
    "        entanglement_blocks=\"cz\",\n",
    "        entanglement=\"full\",\n",
    "        reps=2,\n",
    "        parameter_prefix=\"y\",\n",
    "    )\n",
    "    another_solver = VQE(\n",
    "        ansatz=tl_circuit,\n",
    "        quantum_instance=QuantumInstance(Aer.get_backend(\"aer_simulator_statevector\")))\n",
    "    calc = GroundStateEigensolver(qubit_converter, numpy_solver)\n",
    "    c_res = calc.solve(es_problem)\n",
    "    ce.append(c_res.total_energies)\n",
    "    calc = GroundStateEigensolver(qubit_converter, vqe_solver)\n",
    "    q_res = calc.solve(es_problem)\n",
    "    qe.append(q_res.total_energies)\n",
    "    print(\"distance -> \",distance[j])"
   ]
  },
  {
   "cell_type": "code",
   "execution_count": 7,
   "id": "c3531f07-1c98-4494-9728-5fd98b8d00ef",
   "metadata": {},
   "outputs": [
    {
     "data": {
      "text/plain": [
       "[array([2.70996077]),\n",
       " array([0.15748213]),\n",
       " array([-0.60180371]),\n",
       " array([-0.9141497]),\n",
       " array([-1.05515979]),\n",
       " array([-1.11628601]),\n",
       " array([-1.13618945]),\n",
       " array([-1.13414767]),\n",
       " array([-1.12056013]),\n",
       " array([-1.10115032]),\n",
       " array([-1.07919294]),\n",
       " array([-1.05674074]),\n",
       " array([-1.03518626]),\n",
       " array([-1.01546825]),\n",
       " array([-0.99814935]),\n",
       " array([-0.98347273]),\n",
       " array([-0.97142669]),\n",
       " array([-0.96181666]),\n",
       " array([-0.95433885]),\n",
       " array([-0.94864111]),\n",
       " array([-0.94437468]),\n",
       " array([-0.94122403]),\n",
       " array([-0.93892237]),\n",
       " array([-0.93725491]),\n",
       " array([-0.93605486]),\n",
       " array([-0.93519594]),\n",
       " array([-0.9345843]),\n",
       " array([-0.93415097]),\n",
       " array([-0.93384561])]"
      ]
     },
     "execution_count": 7,
     "metadata": {},
     "output_type": "execute_result"
    }
   ],
   "source": [
    "qe"
   ]
  },
  {
   "cell_type": "code",
   "execution_count": 8,
   "id": "a9759baf-8d1a-4223-aa08-8f5c98f26798",
   "metadata": {},
   "outputs": [],
   "source": [
    "import matplotlib.pyplot as plt"
   ]
  },
  {
   "cell_type": "code",
   "execution_count": 9,
   "id": "7a0b1289-4c4f-4f71-8009-bbf07ceb703e",
   "metadata": {
    "tags": []
   },
   "outputs": [
    {
     "data": {
      "image/png": "[encoded data removed]",
      "text/plain": [
       "<Figure size 432x288 with 1 Axes>"
      ]
     },
     "metadata": {
      "needs_background": "light"
     },
     "output_type": "display_data"
    }
   ],
   "source": [
    "plt.plot(distance,qe)\n",
    "plt.ylabel(\"Total Energy\")\n",
    "plt.xlabel(\"InterAtomic Distance\")\n",
    "plt.show()"
   ]
  },
  {
   "cell_type": "code",
   "execution_count": 10,
   "id": "9956be4f-ed19-41df-99ef-510e74f4c18b",
   "metadata": {},
   "outputs": [
    {
     "data": {
      "text/plain": [
       "array([-1.13618945])"
      ]
     },
     "execution_count": 10,
     "metadata": {},
     "output_type": "execute_result"
    }
   ],
   "source": [
    "min(qe)"
   ]
  },
  {
   "cell_type": "code",
   "execution_count": null,
   "id": "87e9dfe5-9795-4068-8ceb-a91a201636e8",
   "metadata": {},
   "outputs": [],
   "source": []
  }
 ],
 "metadata": {
  "kernelspec": {
   "display_name": "Qiskit v0.35.0 (ipykernel)",
   "language": "python",
   "name": "python3"
  },
  "language_info": {
   "codemirror_mode": {
    "name": "ipython",
    "version": 3
   },
   "file_extension": ".py",
   "mimetype": "text/x-python",
   "name": "python",
   "nbconvert_exporter": "python",
   "pygments_lexer": "ipython3",
   "version": "3.8.13"
  },
  "widgets": {
   "application/vnd.jupyter.widget-state+json": {
    "state": {},
    "version_major": 2,
    "version_minor": 0
   }
  }
 },
 "nbformat": 4,
 "nbformat_minor": 5
}
