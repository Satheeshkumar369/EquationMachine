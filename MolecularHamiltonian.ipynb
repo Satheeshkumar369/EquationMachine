{
  "nbformat": 4,
  "nbformat_minor": 0,
  "metadata": {
    "colab": {
      "name": "MolecularHamiltonian.ipynb",
      "provenance": []
    },
    "kernelspec": {
      "name": "python3",
      "display_name": "Python 3"
    },
    "language_info": {
      "name": "python"
    }
  },
  "cells": [
    {
      "cell_type": "code",
      "execution_count": null,
      "metadata": {
        "id": "Gy8p7KJ76HII"
      },
      "outputs": [],
      "source": [
        ""
      ]
    }
  ]
}