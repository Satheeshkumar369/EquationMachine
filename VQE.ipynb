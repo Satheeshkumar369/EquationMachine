{
 "cells": [
  {
   "cell_type": "markdown",
   "metadata": {},
   "source": [
    "# Modules Import"
   ]
  },
  {
   "cell_type": "code",
   "execution_count": 1,
   "metadata": {},
   "outputs": [
    {
     "name": "stderr",
     "output_type": "stream",
     "text": [
      "<frozen importlib._bootstrap>:219: RuntimeWarning: scipy._lib.messagestream.MessageStream size changed, may indicate binary incompatibility. Expected 56 from C header, got 64 from PyObject\n"
     ]
    }
   ],
   "source": [
    "from qiskit import Aer\n",
    "from qiskit_nature.drivers import UnitsType, Molecule\n",
    "from qiskit_nature.drivers.second_quantization import (\n",
    "    ElectronicStructureDriverType,\n",
    "    ElectronicStructureMoleculeDriver,\n",
    ")\n",
    "from qiskit_nature.problems.second_quantization import ElectronicStructureProblem\n",
    "from qiskit_nature.converters.second_quantization import QubitConverter\n",
    "from qiskit_nature.mappers.second_quantization import JordanWignerMapper"
   ]
  },
  {
   "cell_type": "code",
   "execution_count": 2,
   "metadata": {},
   "outputs": [],
   "source": [
    "molecule = Molecule(\n",
    "    geometry=[\n",
    "        [\"H\", [0.0, 0.0, 0.0]],\n",
    "        # [\"Li\", [0.0, 0.0, 0.0]],\n",
    "        # [\"Be\", [0.0, 0.0, 0.345]],\n",
    "        [\"H\", [0.0, 0.0, 0.734]]], \n",
    "    charge=0, \n",
    "    multiplicity=1\n",
    ")\n",
    "driver = ElectronicStructureMoleculeDriver(\n",
    "    molecule, basis=\"sto3g\", driver_type=ElectronicStructureDriverType.PYSCF\n",
    ")\n",
    "\n",
    "es_problem = ElectronicStructureProblem(driver)\n",
    "qubit_converter = QubitConverter(JordanWignerMapper())"
   ]
  },
  {
   "cell_type": "code",
   "execution_count": 3,
   "metadata": {},
   "outputs": [],
   "source": [
    "from qiskit.providers.aer import StatevectorSimulator\n",
    "from qiskit import Aer\n",
    "from qiskit.utils import QuantumInstance\n",
    "from qiskit_nature.algorithms import VQEUCCFactory\n",
    "\n",
    "quantum_instance = QuantumInstance(backend=Aer.get_backend(\"aer_simulator_statevector\"))\n",
    "vqe_solver = VQEUCCFactory(quantum_instance)"
   ]
  },
  {
   "cell_type": "code",
   "execution_count": 4,
   "metadata": {},
   "outputs": [],
   "source": [
    "from qiskit.algorithms import NumPyMinimumEigensolver\n",
    "numpy_solver = NumPyMinimumEigensolver()"
   ]
  },
  {
   "cell_type": "code",
   "execution_count": 5,
   "metadata": {},
   "outputs": [],
   "source": [
    "from qiskit.algorithms import VQE\n",
    "from qiskit.circuit.library import TwoLocal\n",
    "\n",
    "tl_circuit = TwoLocal(\n",
    "    rotation_blocks=[\"h\", \"rx\"],\n",
    "    entanglement_blocks=\"cz\",\n",
    "    entanglement=\"full\",\n",
    "    reps=2,\n",
    "    parameter_prefix=\"y\",\n",
    ")\n",
    "\n",
    "another_solver = VQE(\n",
    "    ansatz=tl_circuit,\n",
    "    quantum_instance=QuantumInstance(Aer.get_backend(\"aer_simulator_statevector\")),\n",
    ")"
   ]
  },
  {
   "cell_type": "markdown",
   "metadata": {},
   "source": [
    "# Classical Calculation (numpy_solver)"
   ]
  },
  {
   "cell_type": "code",
   "execution_count": 6,
   "metadata": {},
   "outputs": [
    {
     "name": "stdout",
     "output_type": "stream",
     "text": [
      "=== GROUND STATE ENERGY ===\n",
      " \n",
      "* Electronic ground state energy (Hartree): -1.858255290955\n",
      "  - computed part:      -1.858255290955\n",
      "~ Nuclear repulsion energy (Hartree): 0.720949878638\n",
      "> Total ground state energy (Hartree): -1.137305412318\n",
      " \n",
      "=== MEASURED OBSERVABLES ===\n",
      " \n",
      "  0:  # Particles: 2.000 S: 0.000 S^2: 0.000 M: 0.000\n",
      " \n",
      "=== DIPOLE MOMENTS ===\n",
      " \n",
      "~ Nuclear dipole moment (a.u.): [0.0  0.0  1.38705898]\n",
      " \n",
      "  0: \n",
      "  * Electronic dipole moment (a.u.): [0.0  0.0  1.38705898]\n",
      "    - computed part:      [0.0  0.0  1.38705898]\n",
      "  > Dipole moment (a.u.): [0.0  0.0  0.0]  Total: 0.0\n",
      "                 (debye): [0.0  0.0  0.00000001]  Total: 0.00000001\n",
      " \n"
     ]
    }
   ],
   "source": [
    "from qiskit_nature.algorithms import GroundStateEigensolver\n",
    "\n",
    "calc = GroundStateEigensolver(qubit_converter, numpy_solver)\n",
    "res = calc.solve(es_problem)\n",
    "print(res)"
   ]
  },
  {
   "cell_type": "markdown",
   "metadata": {},
   "source": [
    "# IBM Calculation (vqe_solver)"
   ]
  },
  {
   "cell_type": "code",
   "execution_count": 7,
   "metadata": {},
   "outputs": [
    {
     "name": "stdout",
     "output_type": "stream",
     "text": [
      "=== GROUND STATE ENERGY ===\n",
      " \n",
      "* Electronic ground state energy (Hartree): -1.858255290898\n",
      "  - computed part:      -1.858255290898\n",
      "~ Nuclear repulsion energy (Hartree): 0.720949878638\n",
      "> Total ground state energy (Hartree): -1.137305412261\n",
      " \n",
      "=== MEASURED OBSERVABLES ===\n",
      " \n",
      "  0:  # Particles: 2.000 S: 0.000 S^2: 0.000 M: 0.000\n",
      " \n",
      "=== DIPOLE MOMENTS ===\n",
      " \n",
      "~ Nuclear dipole moment (a.u.): [0.0  0.0  1.38705898]\n",
      " \n",
      "  0: \n",
      "  * Electronic dipole moment (a.u.): [0.0  0.0  1.3870588]\n",
      "    - computed part:      [0.0  0.0  1.3870588]\n",
      "  > Dipole moment (a.u.): [0.0  0.0  0.00000018]  Total: 0.00000018\n",
      "                 (debye): [0.0  0.0  0.00000045]  Total: 0.00000045\n",
      " \n"
     ]
    }
   ],
   "source": [
    "calc = GroundStateEigensolver(qubit_converter, vqe_solver)\n",
    "res = calc.solve(es_problem)\n",
    "print(res)"
   ]
  },
  {
   "cell_type": "code",
   "execution_count": 8,
   "metadata": {},
   "outputs": [
    {
     "data": {
      "text/plain": [
       "['__abstractmethods__',\n",
       " '__class__',\n",
       " '__delattr__',\n",
       " '__dict__',\n",
       " '__dir__',\n",
       " '__doc__',\n",
       " '__eq__',\n",
       " '__format__',\n",
       " '__ge__',\n",
       " '__getattribute__',\n",
       " '__gt__',\n",
       " '__hash__',\n",
       " '__init__',\n",
       " '__init_subclass__',\n",
       " '__le__',\n",
       " '__lt__',\n",
       " '__module__',\n",
       " '__ne__',\n",
       " '__new__',\n",
       " '__reduce__',\n",
       " '__reduce_ex__',\n",
       " '__repr__',\n",
       " '__setattr__',\n",
       " '__sizeof__',\n",
       " '__slots__',\n",
       " '__str__',\n",
       " '__subclasshook__',\n",
       " '__weakref__',\n",
       " '_abc_impl',\n",
       " '_aux_operator_eigenvalues',\n",
       " '_computed_dipole_moment',\n",
       " '_computed_energies',\n",
       " '_eigenenergies',\n",
       " '_eigenstates',\n",
       " '_extracted_transformer_dipoles',\n",
       " '_extracted_transformer_energies',\n",
       " '_hartree_fock_energy',\n",
       " '_magnetization',\n",
       " '_nuclear_dipole_moment',\n",
       " '_nuclear_repulsion_energy',\n",
       " '_num_particles',\n",
       " '_raw_result',\n",
       " '_reverse_dipole_sign',\n",
       " '_total_angular_momentum',\n",
       " 'aux_operator_eigenvalues',\n",
       " 'combine',\n",
       " 'computed_dipole_moment',\n",
       " 'computed_energies',\n",
       " 'dipole_moment',\n",
       " 'dipole_moment_in_debye',\n",
       " 'eigenenergies',\n",
       " 'eigenstates',\n",
       " 'electronic_dipole_moment',\n",
       " 'electronic_energies',\n",
       " 'extracted_transformer_dipole',\n",
       " 'extracted_transformer_dipoles',\n",
       " 'extracted_transformer_energies',\n",
       " 'extracted_transformer_energy',\n",
       " 'formatted',\n",
       " 'groundenergy',\n",
       " 'groundstate',\n",
       " 'hartree_fock_energy',\n",
       " 'has_dipole',\n",
       " 'has_observables',\n",
       " 'magnetization',\n",
       " 'nuclear_dipole_moment',\n",
       " 'nuclear_repulsion_energy',\n",
       " 'num_particles',\n",
       " 'raw_result',\n",
       " 'reverse_dipole_sign',\n",
       " 'spin',\n",
       " 'total_angular_momentum',\n",
       " 'total_dipole_moment',\n",
       " 'total_dipole_moment_in_debye',\n",
       " 'total_energies']"
      ]
     },
     "execution_count": 8,
     "metadata": {},
     "output_type": "execute_result"
    }
   ],
   "source": [
    "dir(res)"
   ]
  },
  {
   "cell_type": "code",
   "execution_count": 9,
   "metadata": {},
   "outputs": [
    {
     "name": "stdout",
     "output_type": "stream",
     "text": [
      "[-1.13730541]\n"
     ]
    }
   ],
   "source": [
    "print(res.total_energies)"
   ]
  },
  {
   "cell_type": "code",
   "execution_count": null,
   "metadata": {},
   "outputs": [],
   "source": []
  }
 ],
 "metadata": {
  "kernelspec": {
   "display_name": "Qiskit v0.34.2 (ipykernel)",
   "language": "python",
   "name": "python3"
  },
  "language_info": {
   "codemirror_mode": {
    "name": "ipython",
    "version": 3
   },
   "file_extension": ".py",
   "mimetype": "text/x-python",
   "name": "python",
   "nbconvert_exporter": "python",
   "pygments_lexer": "ipython3",
   "version": "3.8.12"
  },
  "widgets": {
   "application/vnd.jupyter.widget-state+json": {
    "state": {},
    "version_major": 2,
    "version_minor": 0
   }
  }
 },
 "nbformat": 4,
 "nbformat_minor": 4
}
